{
 "cells": [
  {
   "cell_type": "code",
   "execution_count": 1,
   "metadata": {},
   "outputs": [],
   "source": [
    "import sqlite3\n",
    "import os\n",
    "import pandas as pd\n",
    "import requests\n",
    "import time\n",
    "from config.secrets import *\n",
    "import currencyapicom\n",
    "from datetime import datetime"
   ]
  },
  {
   "cell_type": "code",
   "execution_count": 2,
   "metadata": {},
   "outputs": [],
   "source": [
    "# Initialize sql db\n",
    "con = sqlite3.connect(\"database.db\")\n",
    "cur = con.cursor()"
   ]
  },
  {
   "cell_type": "code",
   "execution_count": 7,
   "metadata": {},
   "outputs": [],
   "source": [
    "for filename in os.listdir(\"data/\"):\n",
    "    if filename.endswith(\".csv\"): \n",
    "        df = pd.read_csv(\"data/\"+filename, encoding='utf-8')\n",
    "        table_name = filename.split(\".\")[0]\n",
    "        df.to_sql(table_name, con, if_exists='append', index=False)\n",
    "        continue\n",
    "    else:\n",
    "        continue\n"
   ]
  },
  {
   "cell_type": "code",
   "execution_count": 3,
   "metadata": {},
   "outputs": [],
   "source": [
    "%load_ext sql"
   ]
  },
  {
   "cell_type": "code",
   "execution_count": 22,
   "metadata": {},
   "outputs": [
    {
     "name": "stdout",
     "output_type": "stream",
     "text": [
      " * sqlite:///database.db\n",
      "Done.\n"
     ]
    },
    {
     "data": {
      "text/html": [
       "<table>\n",
       "    <thead>\n",
       "        <tr>\n",
       "            <th>id</th>\n",
       "            <th>name</th>\n",
       "            <th>sub_category_id</th>\n",
       "            <th>country_id</th>\n",
       "            <th>currency_id</th>\n",
       "            <th>launched</th>\n",
       "            <th>deadline</th>\n",
       "            <th>goal</th>\n",
       "            <th>pledged</th>\n",
       "            <th>backers</th>\n",
       "            <th>outcome</th>\n",
       "        </tr>\n",
       "    </thead>\n",
       "    <tbody>\n",
       "        <tr>\n",
       "            <td>1</td>\n",
       "            <td>Ragdolls</td>\n",
       "            <td>23</td>\n",
       "            <td>2</td>\n",
       "            <td>2</td>\n",
       "            <td>2013-04-25 00:00:00</td>\n",
       "            <td>2013-05-25 00:00:00</td>\n",
       "            <td>15000.0</td>\n",
       "            <td>20.0</td>\n",
       "            <td>3</td>\n",
       "            <td>failed</td>\n",
       "        </tr>\n",
       "        <tr>\n",
       "            <td>2</td>\n",
       "            <td>One To Ten</td>\n",
       "            <td>47</td>\n",
       "            <td>1</td>\n",
       "            <td>1</td>\n",
       "            <td>2015-11-16 00:00:00</td>\n",
       "            <td>2015-12-16 00:00:00</td>\n",
       "            <td>223.68</td>\n",
       "            <td>413.81</td>\n",
       "            <td>23</td>\n",
       "            <td>successful</td>\n",
       "        </tr>\n",
       "        <tr>\n",
       "            <td>3</td>\n",
       "            <td>Future Gun - A short film about kids and advanced hardware</td>\n",
       "            <td>24</td>\n",
       "            <td>2</td>\n",
       "            <td>2</td>\n",
       "            <td>2013-08-28 00:00:00</td>\n",
       "            <td>2013-09-27 00:00:00</td>\n",
       "            <td>5000.0</td>\n",
       "            <td>1497.0</td>\n",
       "            <td>28</td>\n",
       "            <td>failed</td>\n",
       "        </tr>\n",
       "        <tr>\n",
       "            <td>4</td>\n",
       "            <td>Fourth Wave Apparel\u0014Vintage Fashion for the Modern Feminist</td>\n",
       "            <td>52</td>\n",
       "            <td>2</td>\n",
       "            <td>2</td>\n",
       "            <td>2014-07-22 00:00:00</td>\n",
       "            <td>2014-08-21 00:00:00</td>\n",
       "            <td>6000.0</td>\n",
       "            <td>8795.0</td>\n",
       "            <td>218</td>\n",
       "            <td>successful</td>\n",
       "        </tr>\n",
       "        <tr>\n",
       "            <td>5</td>\n",
       "            <td>The Rich Lifestyle</td>\n",
       "            <td>9</td>\n",
       "            <td>2</td>\n",
       "            <td>2</td>\n",
       "            <td>2016-08-24 00:00:00</td>\n",
       "            <td>2016-09-28 00:00:00</td>\n",
       "            <td>2000000.0</td>\n",
       "            <td>2.0</td>\n",
       "            <td>2</td>\n",
       "            <td>failed</td>\n",
       "        </tr>\n",
       "        <tr>\n",
       "            <td>6</td>\n",
       "            <td>Perils Galore!</td>\n",
       "            <td>27</td>\n",
       "            <td>2</td>\n",
       "            <td>2</td>\n",
       "            <td>2012-09-25 00:00:00</td>\n",
       "            <td>2012-11-01 00:00:00</td>\n",
       "            <td>2500.0</td>\n",
       "            <td>230.0</td>\n",
       "            <td>5</td>\n",
       "            <td>failed</td>\n",
       "        </tr>\n",
       "        <tr>\n",
       "            <td>7</td>\n",
       "            <td>In a Dark Dark House - Directed by Larry Moss</td>\n",
       "            <td>20</td>\n",
       "            <td>2</td>\n",
       "            <td>2</td>\n",
       "            <td>2014-07-01 00:00:00</td>\n",
       "            <td>2014-08-15 00:00:00</td>\n",
       "            <td>55000.0</td>\n",
       "            <td>9316.0</td>\n",
       "            <td>45</td>\n",
       "            <td>failed</td>\n",
       "        </tr>\n",
       "        <tr>\n",
       "            <td>8</td>\n",
       "            <td>CHARLIEFOXTROTNY</td>\n",
       "            <td>23</td>\n",
       "            <td>2</td>\n",
       "            <td>2</td>\n",
       "            <td>2014-05-21 00:00:00</td>\n",
       "            <td>2014-06-20 00:00:00</td>\n",
       "            <td>6000.0</td>\n",
       "            <td>161.0</td>\n",
       "            <td>4</td>\n",
       "            <td>failed</td>\n",
       "        </tr>\n",
       "        <tr>\n",
       "            <td>9</td>\n",
       "            <td>Fat Englishmen - Beer and Sumo</td>\n",
       "            <td>54</td>\n",
       "            <td>2</td>\n",
       "            <td>2</td>\n",
       "            <td>2015-03-03 00:00:00</td>\n",
       "            <td>2015-04-02 00:00:00</td>\n",
       "            <td>50000.0</td>\n",
       "            <td>0.0</td>\n",
       "            <td>0</td>\n",
       "            <td>failed</td>\n",
       "        </tr>\n",
       "        <tr>\n",
       "            <td>10</td>\n",
       "            <td>bear elements old-fashioned shave and beard care for men</td>\n",
       "            <td>12</td>\n",
       "            <td>2</td>\n",
       "            <td>2</td>\n",
       "            <td>2016-04-14 00:00:00</td>\n",
       "            <td>2016-05-14 00:00:00</td>\n",
       "            <td>12000.0</td>\n",
       "            <td>306.0</td>\n",
       "            <td>11</td>\n",
       "            <td>failed</td>\n",
       "        </tr>\n",
       "    </tbody>\n",
       "</table>"
      ],
      "text/plain": [
       "[(1, 'Ragdolls', 23, 2, 2, '2013-04-25 00:00:00', '2013-05-25 00:00:00', 15000.0, 20.0, 3, 'failed'),\n",
       " (2, 'One To Ten', 47, 1, 1, '2015-11-16 00:00:00', '2015-12-16 00:00:00', 223.68, 413.81, 23, 'successful'),\n",
       " (3, 'Future Gun - A short film about kids and advanced hardware', 24, 2, 2, '2013-08-28 00:00:00', '2013-09-27 00:00:00', 5000.0, 1497.0, 28, 'failed'),\n",
       " (4, 'Fourth Wave Apparel\\x14Vintage Fashion for the Modern Feminist', 52, 2, 2, '2014-07-22 00:00:00', '2014-08-21 00:00:00', 6000.0, 8795.0, 218, 'successful'),\n",
       " (5, 'The Rich Lifestyle', 9, 2, 2, '2016-08-24 00:00:00', '2016-09-28 00:00:00', 2000000.0, 2.0, 2, 'failed'),\n",
       " (6, 'Perils Galore!', 27, 2, 2, '2012-09-25 00:00:00', '2012-11-01 00:00:00', 2500.0, 230.0, 5, 'failed'),\n",
       " (7, 'In a Dark Dark House - Directed by Larry Moss', 20, 2, 2, '2014-07-01 00:00:00', '2014-08-15 00:00:00', 55000.0, 9316.0, 45, 'failed'),\n",
       " (8, 'CHARLIEFOXTROTNY', 23, 2, 2, '2014-05-21 00:00:00', '2014-06-20 00:00:00', 6000.0, 161.0, 4, 'failed'),\n",
       " (9, 'Fat Englishmen - Beer and Sumo', 54, 2, 2, '2015-03-03 00:00:00', '2015-04-02 00:00:00', 50000.0, 0.0, 0, 'failed'),\n",
       " (10, 'bear elements old-fashioned shave and beard care for men', 12, 2, 2, '2016-04-14 00:00:00', '2016-05-14 00:00:00', 12000.0, 306.0, 11, 'failed')]"
      ]
     },
     "execution_count": 22,
     "metadata": {},
     "output_type": "execute_result"
    }
   ],
   "source": [
    "%%sql\n",
    "SELECT * FROM campaign\n",
    "LIMIT 10;"
   ]
  },
  {
   "cell_type": "markdown",
   "metadata": {},
   "source": [
    "#### Get historical exchange rates\n"
   ]
  },
  {
   "cell_type": "raw",
   "metadata": {},
   "source": [
    "%%sql\n",
    "SELECT DISTINCT(currency_id), deadline, currency.name\n",
    "FROM campaign, currency\n",
    "WHERE campaign.currency_id = currency.id\n",
    "ORDER BY deadline\n",
    "LIMIT 10;"
   ]
  },
  {
   "cell_type": "raw",
   "metadata": {},
   "source": [
    "\n",
    "# Get historical exchange rate from CurrencyAPI.com\n",
    "def get_historical_exchange_rate(date, base_currency, target_currency, web, api_key):\n",
    "    if web == \"currencyapi\":\n",
    "        client = currencyapicom.Client(api_key)\n",
    "        def day_before(date):\n",
    "            prev_date = datetime.strptime(date, \"%Y-%m-%d\") - timedelta(days=1)\n",
    "            return prev_date.strftime('%Y-%m-%d')\n",
    "        closet_historical_date = day_before(date)\n",
    "        result = client.historical(closet_historical_date, base_currency, [target_currency])\n",
    "        date = result['meta']['last_updated_at']\n",
    "        exchange_rate = result['data'][target_currency]['value']\n",
    "        return exchange_rate\n",
    "    elif web == \"currencybeacon\":\n",
    "        url = f\"https://api.currencybeacon.com/v1/historical?api_key={api_key}&base=USD&date={date}&symbols={target_currency}\"\n",
    "        #return url\n",
    "        response = requests.get(url)\n",
    "        if response.status_code == 200:\n",
    "            result = response.json()\n",
    "            exchange_rate = result['rates'][target_currency]\n",
    "            return exchange_rate\n",
    "        else:\n",
    "            return None"
   ]
  },
  {
   "cell_type": "raw",
   "metadata": {},
   "source": [
    "# Test script\n",
    "get_historical_exchange_rate('2022-01-01', 'USD', 'EUR', \"currencybeacon\", CURRENCYBEACON_KEY)"
   ]
  },
  {
   "cell_type": "raw",
   "metadata": {},
   "source": [
    "# Get historical exchange rate from CurrencyAPI.com\n",
    "api_results = []\n",
    "keyerror = []\n",
    "for row in df.itertuples():\n",
    "    if row.name == \"USD\":\n",
    "        df.loc[row.Index, \"exchange_rate\"] = 1\n",
    "    else:\n",
    "        try:\n",
    "            exchange_rate = get_historical_exchange_rate(row.deadline, 'USD', row.name, 'currencyapi', CURRENCYAPI_KEY)\n",
    "            df.loc[row.Index, \"exchange_rate\"] = exchange_rate\n",
    "            api_results.append((row.Index,row.deadline, row.name, exchange_rate))\n",
    "        except KeyError:\n",
    "            keyerror.append((row.Index,row.deadline, row.name))\n",
    "            pass\n",
    "        except ConnectionError:\n",
    "            break"
   ]
  },
  {
   "cell_type": "raw",
   "metadata": {},
   "source": [
    "# Export keyerror to a text file\n",
    "# Define the file path\n",
    "file_path = \"currency_api_data/keyerror.txt\"\n",
    "\n",
    "# Create the directory if it doesn't exist\n",
    "os.makedirs(os.path.dirname(file_path), exist_ok=True)\n",
    "\n",
    "# Write the contents of keyerror to the file\n",
    "with open(file_path, \"w\") as file:\n",
    "    for item in keyerror:\n",
    "        file.write(str(item) + \"\\n\")\n"
   ]
  },
  {
   "cell_type": "raw",
   "metadata": {},
   "source": [
    "# Export api_results to a csv file\n",
    "df.to_csv(\"currency_api_data/exchange_rate.csv\", index=False)"
   ]
  },
  {
   "cell_type": "raw",
   "metadata": {},
   "source": [
    "# Import exchange_rate from csv file\n",
    "df = pd.read_csv(\"currency_api_data/exchange_rate.csv\")\n",
    "print(df.info())\n",
    "print(df.head())"
   ]
  },
  {
   "cell_type": "raw",
   "metadata": {},
   "source": [
    "# Get historical exchange rate from Currencybeacon.com\n",
    "api_results = []\n",
    "keyerror = []\n",
    "for row in df.itertuples():\n",
    "    if row.name == \"USD\":\n",
    "        df.loc[row.Index, \"exchange_rate\"] = 1\n",
    "    elif df.loc[row.Index, \"exchange_rate\"]:\n",
    "        pass\n",
    "    else:\n",
    "        try:\n",
    "            exchange_rate = get_historical_exchange_rate(row.deadline, 'USD', row.name, \"currencybeacon\", CURRENCYBEACON_KEY)\n",
    "            df.loc[row.Index, \"exchange_rate\"] = exchange_rate\n",
    "            api_results.append((row.Index,row.deadline, row.name, exchange_rate))\n",
    "        except KeyError:\n",
    "            keyerror.append((row.Index,row.deadline, row.name))\n",
    "            pass\n",
    "        except ConnectionError:\n",
    "            break"
   ]
  },
  {
   "cell_type": "raw",
   "metadata": {},
   "source": [
    "# Export api_results to a csv file\n",
    "df.to_csv(\"currency_api_data/exchange_rate.csv\", index=False)"
   ]
  },
  {
   "cell_type": "code",
   "execution_count": null,
   "metadata": {},
   "outputs": [],
   "source": [
    "df = pd.read_sql_query(\n",
    "\"\"\"\n",
    "SELECT DISTINCT(currency_id), deadline, currency.name\n",
    "FROM campaign, currency\n",
    "WHERE campaign.currency_id = currency.id\n",
    "ORDER BY deadline\n",
    "\"\"\",\n",
    "    con,\n",
    ")\n",
    "# Convert datetime to unix timestamp\n",
    "df[\"deadline\"] = pd.to_datetime(df[\"deadline\"])\n",
    "df[\"deadline\"] = df[\"deadline\"].apply(lambda x: x.strftime('%Y-%m-%d'))\n",
    "#df[\"deadline\"] = df[\"deadline\"].apply(lambda x: x.timestamp())\n",
    "\n"
   ]
  },
  {
   "cell_type": "code",
   "execution_count": 4,
   "metadata": {},
   "outputs": [
    {
     "data": {
      "text/plain": [
       "5277"
      ]
     },
     "execution_count": 4,
     "metadata": {},
     "output_type": "execute_result"
    }
   ],
   "source": [
    "# Add exchange rate date to SQL\n",
    "df = pd.read_csv(\"currency_api_data/exchange_rate.csv\", encoding='utf-8')\n",
    "df.to_sql(\"exchange_rate\", con, if_exists='append', index=False)"
   ]
  },
  {
   "cell_type": "code",
   "execution_count": 6,
   "metadata": {},
   "outputs": [
    {
     "data": {
      "text/plain": [
       "249"
      ]
     },
     "execution_count": 6,
     "metadata": {},
     "output_type": "execute_result"
    }
   ],
   "source": [
    "# Add country codes date to SQL\n",
    "df = pd.read_csv(\"data/country_codes.csv\", encoding='utf-8')\n",
    "df.to_sql(\"country_codes\", con, if_exists='append', index=False)"
   ]
  },
  {
   "cell_type": "code",
   "execution_count": null,
   "metadata": {},
   "outputs": [],
   "source": []
  }
 ],
 "metadata": {
  "kernelspec": {
   "display_name": "brainstation",
   "language": "python",
   "name": "python3"
  },
  "language_info": {
   "codemirror_mode": {
    "name": "ipython",
    "version": 3
   },
   "file_extension": ".py",
   "mimetype": "text/x-python",
   "name": "python",
   "nbconvert_exporter": "python",
   "pygments_lexer": "ipython3",
   "version": "3.11.5"
  }
 },
 "nbformat": 4,
 "nbformat_minor": 2
}
